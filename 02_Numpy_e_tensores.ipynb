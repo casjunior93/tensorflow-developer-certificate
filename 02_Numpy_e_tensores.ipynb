{
  "nbformat": 4,
  "nbformat_minor": 0,
  "metadata": {
    "colab": {
      "provenance": [],
      "authorship_tag": "ABX9TyPGtlSm2+QR5N3qnARcCOhe",
      "include_colab_link": true
    },
    "kernelspec": {
      "name": "python3",
      "display_name": "Python 3"
    },
    "language_info": {
      "name": "python"
    }
  },
  "cells": [
    {
      "cell_type": "markdown",
      "metadata": {
        "id": "view-in-github",
        "colab_type": "text"
      },
      "source": [
        "<a href=\"https://colab.research.google.com/github/casjunior93/tensorflow-developer-certificate/blob/main/02_Numpy_e_tensores.ipynb\" target=\"_parent\"><img src=\"https://colab.research.google.com/assets/colab-badge.svg\" alt=\"Open In Colab\"/></a>"
      ]
    },
    {
      "cell_type": "markdown",
      "source": [
        "# Introdução ao Numerical Python (Numpy)"
      ],
      "metadata": {
        "id": "mKGQMlQPByFY"
      }
    },
    {
      "cell_type": "markdown",
      "source": [
        "## 1. O vetor n-dimensional (tensor)"
      ],
      "metadata": {
        "id": "Wa2b-nRMB_Kc"
      }
    },
    {
      "cell_type": "markdown",
      "source": [
        "O NumPy é uma biblioteca para a linguagem Python com funções para se trabalhar com computação numérica. Seu principal objeto é o vetor n-dimensional, ou ndarray. Um vetor n-dimensional também é conhecido pelo nome tensor. A principal característica do ndarray é que ele deve ser homogêneo, ou seja, diferentemente do objeto lista, todos os seus elementos devem ser do mesmo tipo. [(3)](http://www.opl.ufc.br/post/numpy/)"
      ],
      "metadata": {
        "id": "MIpn0JWiCCFj"
      }
    },
    {
      "cell_type": "markdown",
      "source": [
        "## 2. Criando tensores com numpy"
      ],
      "metadata": {
        "id": "1Br3F1KFCNt1"
      }
    },
    {
      "cell_type": "markdown",
      "source": [
        "Criando um ndarray com numpy"
      ],
      "metadata": {
        "id": "d2uc0q4HCXqc"
      }
    },
    {
      "cell_type": "markdown",
      "source": [
        "### 2.1 Vetor (tensor 1-dimensional)"
      ],
      "metadata": {
        "id": "Km1SZuAsCqnY"
      }
    },
    {
      "cell_type": "code",
      "execution_count": 2,
      "metadata": {
        "id": "gFts9ZTyAGuI"
      },
      "outputs": [],
      "source": [
        "import numpy as np"
      ]
    },
    {
      "cell_type": "code",
      "source": [
        "vetor = np.array([1,2,3,4])\n",
        "vetor"
      ],
      "metadata": {
        "colab": {
          "base_uri": "https://localhost:8080/"
        },
        "id": "qRdrZo2LCSv3",
        "outputId": "eea40c82-670f-4d0b-a5a6-c0947566e5b9"
      },
      "execution_count": 4,
      "outputs": [
        {
          "output_type": "execute_result",
          "data": {
            "text/plain": [
              "array([1, 2, 3, 4])"
            ]
          },
          "metadata": {},
          "execution_count": 4
        }
      ]
    },
    {
      "cell_type": "code",
      "source": [
        "print(f'Um vetor tem {vetor.ndim} dimensão.')"
      ],
      "metadata": {
        "colab": {
          "base_uri": "https://localhost:8080/"
        },
        "id": "P1eeK8wmCl8v",
        "outputId": "b3f6382c-7e59-4e34-dbba-2efc7676c773"
      },
      "execution_count": 6,
      "outputs": [
        {
          "output_type": "stream",
          "name": "stdout",
          "text": [
            "Um vetor tem 1 dimensão.\n"
          ]
        }
      ]
    },
    {
      "cell_type": "markdown",
      "source": [
        "Tipos dos elementos de um tensor"
      ],
      "metadata": {
        "id": "OCW760VlC5QP"
      }
    },
    {
      "cell_type": "code",
      "source": [
        "vetor.dtype"
      ],
      "metadata": {
        "colab": {
          "base_uri": "https://localhost:8080/"
        },
        "id": "vT0DslJACuRK",
        "outputId": "2d52ee39-394f-4bad-ea4e-84efba432e14"
      },
      "execution_count": 7,
      "outputs": [
        {
          "output_type": "execute_result",
          "data": {
            "text/plain": [
              "dtype('int64')"
            ]
          },
          "metadata": {},
          "execution_count": 7
        }
      ]
    },
    {
      "cell_type": "markdown",
      "source": [
        "Neste caso, ao criar o vetor, o tipo default assumido foi int64, mas o tipo desejado pode ser especificado na criação do tensor."
      ],
      "metadata": {
        "id": "CyySiliADBd9"
      }
    },
    {
      "cell_type": "code",
      "source": [
        "vetor = np.array([1,2,3,4], dtype='float64')\n",
        "vetor.dtype"
      ],
      "metadata": {
        "colab": {
          "base_uri": "https://localhost:8080/"
        },
        "id": "2yDUw7diC9Qn",
        "outputId": "fd6ceb6b-9582-4832-a5a1-88724ea86f5b"
      },
      "execution_count": 8,
      "outputs": [
        {
          "output_type": "execute_result",
          "data": {
            "text/plain": [
              "dtype('float64')"
            ]
          },
          "metadata": {},
          "execution_count": 8
        }
      ]
    },
    {
      "cell_type": "markdown",
      "source": [
        "Ao criar um tensor com um float, os elementos do tensor automaticamente serão do tipo float. Os elementos ficam com o mesmo tipo float64."
      ],
      "metadata": {
        "id": "shSuOEQJDQEw"
      }
    },
    {
      "cell_type": "code",
      "source": [
        "vetor = np.array([1,2.,3])\n",
        "vetor.dtype"
      ],
      "metadata": {
        "colab": {
          "base_uri": "https://localhost:8080/"
        },
        "id": "CadcjjppDLLs",
        "outputId": "066e1dec-1ee4-4010-b3f5-08c646bb886e"
      },
      "execution_count": 9,
      "outputs": [
        {
          "output_type": "execute_result",
          "data": {
            "text/plain": [
              "dtype('float64')"
            ]
          },
          "metadata": {},
          "execution_count": 9
        }
      ]
    },
    {
      "cell_type": "markdown",
      "source": [
        "Forma do tensor"
      ],
      "metadata": {
        "id": "lyUsF0MFD8Qa"
      }
    },
    {
      "cell_type": "code",
      "source": [
        "vetor.shape"
      ],
      "metadata": {
        "colab": {
          "base_uri": "https://localhost:8080/"
        },
        "id": "JVIgCCnyDljp",
        "outputId": "8c9cb953-e9c3-4009-c226-340408093b65"
      },
      "execution_count": 10,
      "outputs": [
        {
          "output_type": "execute_result",
          "data": {
            "text/plain": [
              "(3,)"
            ]
          },
          "metadata": {},
          "execution_count": 10
        }
      ]
    },
    {
      "cell_type": "markdown",
      "source": [
        "O vetor tem 1 dimensão e 4 elementos."
      ],
      "metadata": {
        "id": "Z0cvg7paELIo"
      }
    },
    {
      "cell_type": "markdown",
      "source": [
        "### 2.2 Criando uma matriz (tensor 2-dimensional)"
      ],
      "metadata": {
        "id": "ze1kF0o_EMt1"
      }
    },
    {
      "cell_type": "code",
      "source": [
        "matriz = np.array([\n",
        "    [1,2,3],\n",
        "    [4,5,6]\n",
        "])\n",
        "matriz"
      ],
      "metadata": {
        "colab": {
          "base_uri": "https://localhost:8080/"
        },
        "id": "WvsygQ9kEAA_",
        "outputId": "e0c19758-48a7-481b-9ca2-a94781b76eeb"
      },
      "execution_count": 12,
      "outputs": [
        {
          "output_type": "execute_result",
          "data": {
            "text/plain": [
              "array([[1, 2, 3],\n",
              "       [4, 5, 6]])"
            ]
          },
          "metadata": {},
          "execution_count": 12
        }
      ]
    },
    {
      "cell_type": "code",
      "source": [
        "print(f'Dimensão: {matriz.ndim}-dimensional')\n",
        "print(f'Forma: {matriz.shape}')"
      ],
      "metadata": {
        "colab": {
          "base_uri": "https://localhost:8080/"
        },
        "id": "SvXtJgb0EJLX",
        "outputId": "2d378705-5b07-4715-f0a5-8fc249b15663"
      },
      "execution_count": 16,
      "outputs": [
        {
          "output_type": "stream",
          "name": "stdout",
          "text": [
            "Dimensão: 2-dimensional\n",
            "Forma: (2, 3)\n"
          ]
        }
      ]
    },
    {
      "cell_type": "markdown",
      "source": [
        "Criando uma matriz com .shape"
      ],
      "metadata": {
        "id": "1st8_V7EEyxE"
      }
    },
    {
      "cell_type": "code",
      "source": [
        "vetor = np.array([1,2,3,4,5,6,7,8,9])\n",
        "vetor.shape = (3,3)"
      ],
      "metadata": {
        "id": "WwIUurULEa1-"
      },
      "execution_count": 22,
      "outputs": []
    },
    {
      "cell_type": "code",
      "source": [
        "matriz = vetor"
      ],
      "metadata": {
        "id": "ZZQ_LUZRE8_L"
      },
      "execution_count": 23,
      "outputs": []
    },
    {
      "cell_type": "code",
      "source": [
        "matriz"
      ],
      "metadata": {
        "colab": {
          "base_uri": "https://localhost:8080/"
        },
        "id": "tuoNTawoFGcZ",
        "outputId": "26ebc472-3efe-4157-d655-679b731b30d2"
      },
      "execution_count": 24,
      "outputs": [
        {
          "output_type": "execute_result",
          "data": {
            "text/plain": [
              "array([[1, 2, 3],\n",
              "       [4, 5, 6],\n",
              "       [7, 8, 9]])"
            ]
          },
          "metadata": {},
          "execution_count": 24
        }
      ]
    },
    {
      "cell_type": "markdown",
      "source": [
        "Mudando a forma do tensor com .reshape"
      ],
      "metadata": {
        "id": "P9qRD0TbFc0K"
      }
    },
    {
      "cell_type": "code",
      "source": [
        "vetor = np.array([1,2,3,4,5,6,7,8,9])\n",
        "vetor = vetor.reshape(3,3)\n",
        "vetor"
      ],
      "metadata": {
        "colab": {
          "base_uri": "https://localhost:8080/"
        },
        "id": "hbI65PI2FL4k",
        "outputId": "6d9f48c1-4daf-4237-ee8c-b888fc58c4f8"
      },
      "execution_count": 26,
      "outputs": [
        {
          "output_type": "execute_result",
          "data": {
            "text/plain": [
              "array([[1, 2, 3],\n",
              "       [4, 5, 6],\n",
              "       [7, 8, 9]])"
            ]
          },
          "metadata": {},
          "execution_count": 26
        }
      ]
    },
    {
      "cell_type": "markdown",
      "source": [
        "A função reshape aceita o uso de -1 como dimensão na especificação do shape. Neste caso, a função reshape determinará automaticamente o número de elementos em cada dimensão de forma a manter inalterado o número total de elementos no tensor. No exemplo abaixo, especificamos o tamanho da primeira dimensão como igual a 2. A função reshape então determinará automaticamente qual o tamanho da segunda dimensão."
      ],
      "metadata": {
        "id": "9XhUDO21F2CH"
      }
    },
    {
      "cell_type": "code",
      "source": [
        "vetor = np.array([9,8,7,6,5,4,3,2,1,0])"
      ],
      "metadata": {
        "id": "fIg8I1NgFn7J"
      },
      "execution_count": 31,
      "outputs": []
    },
    {
      "cell_type": "code",
      "source": [
        "vetor1 = vetor.reshape(2,-1)\n",
        "vetor1"
      ],
      "metadata": {
        "colab": {
          "base_uri": "https://localhost:8080/"
        },
        "id": "zy3mseTwF_m_",
        "outputId": "6fb2343f-c4de-4cb9-bdbc-f2a7208d6d4c"
      },
      "execution_count": 32,
      "outputs": [
        {
          "output_type": "execute_result",
          "data": {
            "text/plain": [
              "array([[9, 8, 7, 6, 5],\n",
              "       [4, 3, 2, 1, 0]])"
            ]
          },
          "metadata": {},
          "execution_count": 32
        }
      ]
    },
    {
      "cell_type": "code",
      "source": [
        "vetor2 = vetor.reshape(-1,2)\n",
        "vetor2"
      ],
      "metadata": {
        "colab": {
          "base_uri": "https://localhost:8080/"
        },
        "id": "QeqJSBMbGFSB",
        "outputId": "1196b411-d9a6-464b-c09b-af6d5e4b00c2"
      },
      "execution_count": 33,
      "outputs": [
        {
          "output_type": "execute_result",
          "data": {
            "text/plain": [
              "array([[9, 8],\n",
              "       [7, 6],\n",
              "       [5, 4],\n",
              "       [3, 2],\n",
              "       [1, 0]])"
            ]
          },
          "metadata": {},
          "execution_count": 33
        }
      ]
    },
    {
      "cell_type": "code",
      "source": [
        "vetor3 = vetor.reshape(-1,1)\n",
        "vetor3"
      ],
      "metadata": {
        "colab": {
          "base_uri": "https://localhost:8080/"
        },
        "id": "WINa9l5eGSRy",
        "outputId": "b5f0daae-8126-4f24-83da-c545c0149488"
      },
      "execution_count": 40,
      "outputs": [
        {
          "output_type": "execute_result",
          "data": {
            "text/plain": [
              "array([[9],\n",
              "       [8],\n",
              "       [7],\n",
              "       [6],\n",
              "       [5],\n",
              "       [4],\n",
              "       [3],\n",
              "       [2],\n",
              "       [1],\n",
              "       [0]])"
            ]
          },
          "metadata": {},
          "execution_count": 40
        }
      ]
    },
    {
      "cell_type": "markdown",
      "source": [
        "### 2.3 Dimensões e total de elementos de um tensor"
      ],
      "metadata": {
        "id": "B3LgO57DHjV8"
      }
    },
    {
      "cell_type": "code",
      "source": [
        "vetor = np.array(range(54)).reshape(2,3,3,3)"
      ],
      "metadata": {
        "id": "2xEABc8dGZmt"
      },
      "execution_count": 56,
      "outputs": []
    },
    {
      "cell_type": "code",
      "source": [
        "print('Shape = ', vetor.shape)\n",
        "print('Número de dimensões = ', vetor.ndim)\n",
        "print('Número de elementos = ', vetor.size)\n",
        "print('Tensor v = \\n', vetor)"
      ],
      "metadata": {
        "colab": {
          "base_uri": "https://localhost:8080/"
        },
        "id": "XBdpvZk2HskL",
        "outputId": "95e90c9f-e6b0-457d-9547-b23b4005144a"
      },
      "execution_count": 57,
      "outputs": [
        {
          "output_type": "stream",
          "name": "stdout",
          "text": [
            "Shape =  (2, 3, 3, 3)\n",
            "Número de dimensões =  4\n",
            "Número de elementos =  54\n",
            "Tensor v = \n",
            " [[[[ 0  1  2]\n",
            "   [ 3  4  5]\n",
            "   [ 6  7  8]]\n",
            "\n",
            "  [[ 9 10 11]\n",
            "   [12 13 14]\n",
            "   [15 16 17]]\n",
            "\n",
            "  [[18 19 20]\n",
            "   [21 22 23]\n",
            "   [24 25 26]]]\n",
            "\n",
            "\n",
            " [[[27 28 29]\n",
            "   [30 31 32]\n",
            "   [33 34 35]]\n",
            "\n",
            "  [[36 37 38]\n",
            "   [39 40 41]\n",
            "   [42 43 44]]\n",
            "\n",
            "  [[45 46 47]\n",
            "   [48 49 50]\n",
            "   [51 52 53]]]]\n"
          ]
        }
      ]
    },
    {
      "cell_type": "markdown",
      "source": [
        "### 2.4 Criando tensores com zeros, ones e diag"
      ],
      "metadata": {
        "id": "WacOA_zVJUKC"
      }
    },
    {
      "cell_type": "code",
      "source": [
        "V = np.zeros((3,3))\n",
        "print('V = \\n', V)\n",
        "U = np.ones((3,3))\n",
        "print('U = \\n', U)\n",
        "D = np.diag([10, 10, 10])\n",
        "print('D = \\n', D)"
      ],
      "metadata": {
        "colab": {
          "base_uri": "https://localhost:8080/"
        },
        "id": "2cQtcE5tINUl",
        "outputId": "34738d67-4899-4d3a-ecaa-cd45da4edfcf"
      },
      "execution_count": 58,
      "outputs": [
        {
          "output_type": "stream",
          "name": "stdout",
          "text": [
            "V = \n",
            " [[0. 0. 0.]\n",
            " [0. 0. 0.]\n",
            " [0. 0. 0.]]\n",
            "U = \n",
            " [[1. 1. 1.]\n",
            " [1. 1. 1.]\n",
            " [1. 1. 1.]]\n",
            "D = \n",
            " [[10  0  0]\n",
            " [ 0 10  0]\n",
            " [ 0  0 10]]\n"
          ]
        }
      ]
    },
    {
      "cell_type": "markdown",
      "source": [
        "### 2.5  Criação de sequências como tensores NumPy"
      ],
      "metadata": {
        "id": "r2xfv0oPJm0T"
      }
    },
    {
      "cell_type": "code",
      "source": [
        "'''Cria um arranjo contendo uma seqüência de valores especificados em um \n",
        "intervalo com início e fim dados, espaçados de maneira uniforme'''\n",
        "v = np.arange(0, 5, 0.5)\n",
        "print(\"v =\", v)\n",
        "\n",
        "\n",
        "'''permite definir quantos valores você obtém, incluindo o valor \n",
        "mínimo e máximo especificado. Ele infere o tamanho do passo'''\n",
        "u = np.linspace(0, 5, 10)\n",
        "print(\"u =\", u)"
      ],
      "metadata": {
        "colab": {
          "base_uri": "https://localhost:8080/"
        },
        "id": "oCSH4HXzJYun",
        "outputId": "d42014fb-17e0-404d-bfdb-b5de0a76dc9e"
      },
      "execution_count": 61,
      "outputs": [
        {
          "output_type": "stream",
          "name": "stdout",
          "text": [
            "v = [0.  0.5 1.  1.5 2.  2.5 3.  3.5 4.  4.5]\n",
            "u = [0.         0.55555556 1.11111111 1.66666667 2.22222222 2.77777778\n",
            " 3.33333333 3.88888889 4.44444444 5.        ]\n"
          ]
        }
      ]
    },
    {
      "cell_type": "code",
      "source": [],
      "metadata": {
        "id": "EnLvejHAJq0R"
      },
      "execution_count": null,
      "outputs": []
    },
    {
      "cell_type": "markdown",
      "source": [
        "## 3. Fontes\n",
        "\n",
        "* (1) [Numpy Arange](http://pyscience-brasil.wikidot.com/docitem:numpy-arange#:~:text=A%20fun%C3%A7%C3%A3o%20arange%20cria%20um,num%C3%A9rico%2C%20especificado%20pelo%20argumento%20dtype.)\n",
        "* (2) [Numpy Linspace](http://pyscience-brasil.wikidot.com/docitem:numpy-linspace)\n",
        "* (3) [Introdução ao Numerical Python (Numpy)](http://www.opl.ufc.br/post/numpy/)"
      ],
      "metadata": {
        "id": "ZKE7VkMhKclk"
      }
    },
    {
      "cell_type": "code",
      "source": [],
      "metadata": {
        "id": "nEFqhtUUMUYq"
      },
      "execution_count": null,
      "outputs": []
    }
  ]
}